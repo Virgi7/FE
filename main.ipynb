{
 "cells": [
  {
   "cell_type": "code",
   "execution_count": 1,
   "metadata": {},
   "outputs": [],
   "source": [
    "%load_ext autoreload"
   ]
  },
  {
   "cell_type": "code",
   "execution_count": 47,
   "metadata": {},
   "outputs": [],
   "source": [
    "#main\n",
    "%autoreload\n",
    "import pandas as pd\n",
    "import numpy as np\n",
    "import datetime \n",
    "from datetime import datetime\n",
    "import scipy as sc\n",
    "from scipy.stats import norm\n",
    "import math\n",
    "import utilities as ut\n",
    "import utilities_2 as ut2"
   ]
  },
  {
   "cell_type": "code",
   "execution_count": 96,
   "metadata": {},
   "outputs": [],
   "source": [
    "df=pd.read_csv('EUROSTOXX50_2023_Dataset.csv', index_col=0)\n",
    "\n",
    "#df = df.fillna(method='ffill')\n",
    "name_stocks0=['ADSGn.DE', 'ALVG.DE', 'MUVGn.DE',\n",
    "                            'OREP.PA'] \n",
    "\n",
    "dates_num=['2016-03-18','2019-03-20']\n",
    "dates_den = ['2016-03-17','2019-03-19']\n",
    "\n",
    "np_num, np_den=ut.read_our_CSV(df,name_stocks0, dates_num, dates_den)"
   ]
  },
  {
   "cell_type": "code",
   "execution_count": 49,
   "metadata": {},
   "outputs": [],
   "source": [
    "alpha=0.95\n",
    "notional=1e7\n",
    "delta=1\n",
    "n_asset=4\n",
    "weights=np.ones((n_asset,1))/n_asset\n",
    "returns=np.log(np_num/np_den)"
   ]
  },
  {
   "cell_type": "code",
   "execution_count": 50,
   "metadata": {},
   "outputs": [
    {
     "data": {
      "text/plain": [
       "(146813.58536847658, 185434.4799413243)"
      ]
     },
     "execution_count": 50,
     "metadata": {},
     "output_type": "execute_result"
    }
   ],
   "source": [
    "VaR, ES=ut.AnalyticalNormalMeasures(alpha, weights, notional, delta, returns)\n",
    "VaR, ES"
   ]
  },
  {
   "cell_type": "code",
   "execution_count": 51,
   "metadata": {},
   "outputs": [
    {
     "name": "stdout",
     "output_type": "stream",
     "text": [
      "<class 'numpy.ndarray'> <class 'numpy.ndarray'>\n"
     ]
    },
    {
     "data": {
      "text/plain": [
       "139905.9213679971"
      ]
     },
     "execution_count": 51,
     "metadata": {},
     "output_type": "execute_result"
    }
   ],
   "source": [
    "#CHECK\n",
    "VaR_check=ut.plausibilityCheck(returns, weights, alpha, notional, delta)\n",
    "VaR_check"
   ]
  },
  {
   "cell_type": "code",
   "execution_count": 143,
   "metadata": {},
   "outputs": [],
   "source": [
    "#Exercise 1a\n",
    "#Parameters\n",
    "sett_date1='2019-03-20'\n",
    "alpha_1=0.99\n",
    "dates_num1=dates_num\n",
    "dates_den1 = dates_den\n",
    "shares1=np.array([25000, 20000, 20000, 10000])\n",
    "Nsim=200\n",
    "name_stocks1a=['TTEF.PA', 'DANO.PA', 'SASY.PA', 'VOWG_p.DE']\n"
   ]
  },
  {
   "cell_type": "code",
   "execution_count": 144,
   "metadata": {},
   "outputs": [],
   "source": [
    "\n",
    "stockPrice_1a=df.loc[[sett_date1],name_stocks1a].to_numpy()\n",
    "ptf_value1a=shares1.dot(stockPrice_1a.T)\n",
    "weights_1a=(shares1*stockPrice_1a/ptf_value1a).T\n",
    "np_num1a, np_den1a=ut.read_our_CSV(df,name_stocks1a, dates_num1, dates_den1)\n",
    "logReturns_1a=np.log(np_num1a/np_den1a)"
   ]
  },
  {
   "cell_type": "code",
   "execution_count": null,
   "metadata": {},
   "outputs": [],
   "source": [
    "ES_HSM, VaR_HSM= ut2.HSMeasurements(logReturns_1a, alpha_1, weights_1a, ptf_value1a, delta)\n",
    "samples_Bootstrap=ut2.bootstrapStatistical(Nsim, logReturns_1a, weights_1a, alpha_1, ptf_value1a,\n",
    "                         delta)\n",
    "samples_Bootstrap"
   ]
  },
  {
   "cell_type": "code",
   "execution_count": 138,
   "metadata": {},
   "outputs": [],
   "source": [
    "#Exercise 1b\n",
    "#Parameters\n",
    "Nsim=200\n",
    "name_stocks1b=['ADSGn.DE', 'AIR.PA', 'BBVA.MC', 'BMWG.DE', 'SCHN.PA']\n",
    "Lambda=0.97\n",
    "n_asset1b=len(name_stocks1b)\n",
    "weights_1b=np.ones((n_asset1b,1))/n_asset1b"
   ]
  },
  {
   "cell_type": "code",
   "execution_count": 149,
   "metadata": {},
   "outputs": [],
   "source": [
    "stockPrice_1b=df.loc[[sett_date1],name_stocks1b].to_numpy()\n",
    "ptf_value1b=stockPrice_1b.dot(weights_1b)\n",
    "\n",
    "np_num1b, np_den1b=ut.read_our_CSV(df,name_stocks1b, dates_num1, dates_den1)\n",
    "logReturns_1b=np.log(np_num1b/np_den1b)"
   ]
  },
  {
   "cell_type": "code",
   "execution_count": 150,
   "metadata": {},
   "outputs": [
    {
     "data": {
      "text/plain": [
       "(0.05236973044977731, 0.047948863571305185)"
      ]
     },
     "execution_count": 150,
     "metadata": {},
     "output_type": "execute_result"
    }
   ],
   "source": [
    "ut2.WHSMeasurements(logReturns_1b, alpha_1, Lambda, weights_1b, ptf_value1b, delta)"
   ]
  },
  {
   "cell_type": "code",
   "execution_count": 157,
   "metadata": {},
   "outputs": [],
   "source": [
    "#Exercise 1c\n",
    "#Parameters\n",
    "N=20\n",
    "df_1c=df.loc[:, df.columns != 'ADYEN.AS']\n",
    "df_1c=df_1c.iloc[: , :N]\n",
    "name_stocks1c=df_1c.columns\n",
    "\n",
    "n_asset1c=len(name_stocks1c)\n",
    "weights_1c=np.ones((n_asset1c,1))/n_asset1c\n",
    "days_VaR1c=10\n",
    "n=range(1,7)"
   ]
  },
  {
   "cell_type": "code",
   "execution_count": null,
   "metadata": {},
   "outputs": [],
   "source": [
    "ES_PCA, VaR_PCA= ut2.PrincCompAnalysis(yearlyCovariance, yearlyMeanReturns, weights, H, alpha, n,\n",
    "                      portfolioValue)"
   ]
  },
  {
   "cell_type": "code",
   "execution_count": 43,
   "metadata": {},
   "outputs": [],
   "source": [
    "#Exercise 2\n",
    "#Parameters\n",
    "sett_date='2023-01-31'\n",
    "expiry='2023-04-05'\n",
    "strike=25\n",
    "value_ptf=25870000\n",
    "volatility=0.154\n",
    "dividend=0.031\n",
    "alpha_2=0.99\n",
    "days_VaR=10\n",
    "rate=0"
   ]
  },
  {
   "cell_type": "code",
   "execution_count": 44,
   "metadata": {},
   "outputs": [],
   "source": [
    "#We select only the stocks of Vonovia between the settlement date and 2y before\n",
    "name_stocks2=['VNAn.DE']\n",
    "n_asset2=len(name_stocks2)\n",
    "weights_2=np.ones((n_asset2,1))/n_asset2\n",
    "dates_num=['2021-02-01',sett_date]\n",
    "dates_den = ['2021-01-29','2023-01-30']\n",
    "\n",
    "np_num2, np_den2=ut.read_our_CSV(df,name_stocks2, dates_num, dates_den)"
   ]
  },
  {
   "cell_type": "code",
   "execution_count": 45,
   "metadata": {},
   "outputs": [],
   "source": [
    "stockPrice=np_num2[len(np_num2)-1]\n",
    "numberOfShares=stockPrice*value_ptf\n",
    "numberOfPuts=numberOfShares\n",
    "start = datetime.strptime(sett_date, \"%Y-%m-%d\")\n",
    "end = datetime.strptime(expiry, \"%Y-%m-%d\")\n",
    "diff = end - start\n",
    "timeToMaturityInYears=diff.days/365\n",
    "riskMeasureTimeIntervalInYears=days_VaR/365\n",
    "NumberOfDaysPerYears=np.busday_count('2022-01-01', '2023-01-01')\n",
    "logReturns=np.log(np_num2/np_den2)"
   ]
  },
  {
   "cell_type": "code",
   "execution_count": 46,
   "metadata": {},
   "outputs": [
    {
     "data": {
      "text/plain": [
       "(-2273886537.010923, -90322790.65089506)"
      ]
     },
     "execution_count": 46,
     "metadata": {},
     "output_type": "execute_result"
    }
   ],
   "source": [
    "VaR_MC=ut2.FullMonteCarloVaR(logReturns, numberOfShares, numberOfPuts, stockPrice, strike, rate, dividend,\n",
    "                            volatility, timeToMaturityInYears, riskMeasureTimeIntervalInYears, alpha, NumberOfDaysPerYears)\n",
    "VaR_DN=ut2.DeltaNormalVaR(logReturns, numberOfShares, numberOfPuts, stockPrice, strike, rate, dividend,\n",
    "                            volatility, timeToMaturityInYears, riskMeasureTimeIntervalInYears, alpha, NumberOfDaysPerYears)\n",
    "VaR_MC, VaR_DN"
   ]
  },
  {
   "cell_type": "code",
   "execution_count": 35,
   "metadata": {},
   "outputs": [
    {
     "name": "stdout",
     "output_type": "stream",
     "text": [
      "<class 'numpy.ndarray'> <class 'numpy.float64'>\n",
      "<class 'numpy.ndarray'> <class 'numpy.float64'>\n"
     ]
    },
    {
     "data": {
      "text/plain": [
       "(4444863.323633497, 4444863.323633497)"
      ]
     },
     "execution_count": 35,
     "metadata": {},
     "output_type": "execute_result"
    }
   ],
   "source": [
    "#CHECK\n",
    "VaR_check2=ut.plausibilityCheck(logReturns, weights_2, alpha_2, value_ptf, days_VaR)\n",
    "VaR_check2"
   ]
  },
  {
   "cell_type": "code",
   "execution_count": 67,
   "metadata": {},
   "outputs": [
    {
     "data": {
      "text/plain": [
       "1"
      ]
     },
     "execution_count": 67,
     "metadata": {},
     "output_type": "execute_result"
    }
   ],
   "source": []
  }
 ],
 "metadata": {
  "kernelspec": {
   "display_name": "Python 3",
   "language": "python",
   "name": "python3"
  },
  "language_info": {
   "codemirror_mode": {
    "name": "ipython",
    "version": 3
   },
   "file_extension": ".py",
   "mimetype": "text/x-python",
   "name": "python",
   "nbconvert_exporter": "python",
   "pygments_lexer": "ipython3",
   "version": "3.10.6"
  },
  "orig_nbformat": 4
 },
 "nbformat": 4,
 "nbformat_minor": 2
}
