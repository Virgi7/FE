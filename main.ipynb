{
 "cells": [
  {
   "cell_type": "code",
   "execution_count": 1,
   "metadata": {},
   "outputs": [],
   "source": [
    "%load_ext autoreload"
   ]
  },
  {
   "cell_type": "code",
   "execution_count": 3,
   "metadata": {},
   "outputs": [],
   "source": [
    "#main\n",
    "%autoreload\n",
    "import pandas as pd\n",
    "import numpy as np\n",
    "import datetime as dt\n",
    "from datetime import datetime\n",
    "import scipy as sc\n",
    "from scipy.stats import norm\n",
    "import math\n",
    "import utilities as ut\n",
    "import utilities_2 as ut2"
   ]
  },
  {
   "cell_type": "code",
   "execution_count": 4,
   "metadata": {},
   "outputs": [],
   "source": [
    "df=pd.read_csv('EUROSTOXX50_2023_Dataset.csv', index_col=0)\n",
    "#df = df.fillna(method='ffill')\n",
    "name_stocks0=['ADSGn.DE', 'ALVG.DE', 'MUVGn.DE',\n",
    "                            'OREP.PA'] \n",
    "dates_num=['2016-03-18','2019-03-20']\n",
    "dates_den = ['2016-03-17','2019-03-19']\n",
    "\n",
    "np_num, np_den=ut.read_our_CSV(df,name_stocks0, dates_num, dates_den)"
   ]
  },
  {
   "cell_type": "code",
   "execution_count": 5,
   "metadata": {},
   "outputs": [],
   "source": [
    "alpha=0.95\n",
    "notional=1e7\n",
    "delta=1\n",
    "n_asset=4\n",
    "weights=np.ones((n_asset,1))/n_asset\n",
    "returns=np.log(np_num/np_den)"
   ]
  },
  {
   "cell_type": "code",
   "execution_count": 6,
   "metadata": {},
   "outputs": [
    {
     "data": {
      "text/plain": "(146813.58536847658, 185434.4799413243)"
     },
     "execution_count": 6,
     "metadata": {},
     "output_type": "execute_result"
    }
   ],
   "source": [
    "VaR, ES=ut.AnalyticalNormalMeasures(alpha, weights, notional, delta, returns)\n",
    "VaR, ES"
   ]
  },
  {
   "cell_type": "code",
   "execution_count": 7,
   "metadata": {},
   "outputs": [
    {
     "data": {
      "text/plain": "139905.9213679971"
     },
     "execution_count": 7,
     "metadata": {},
     "output_type": "execute_result"
    }
   ],
   "source": [
    "#CHECK\n",
    "VaR_check=ut.plausibilityCheck(returns, weights, alpha, notional, delta)\n",
    "VaR_check"
   ]
  },
  {
   "cell_type": "code",
   "execution_count": 8,
   "metadata": {},
   "outputs": [],
   "source": [
    "#Exercise 2\n",
    "#Parameters\n",
    "sett_date='2023-01-31'\n",
    "expiry='2023-04-05'\n",
    "strike=25\n",
    "value_ptf=25870000\n",
    "volatility=0.154\n",
    "dividend=0.031\n",
    "alpha_2=0.99\n",
    "days_VaR=10\n",
    "rate=0"
   ]
  },
  {
   "cell_type": "code",
   "execution_count": 9,
   "metadata": {},
   "outputs": [],
   "source": [
    "#We select only the stocks of Vonovia between the settlement date and 2y before\n",
    "name_stocks2=['VNAn.DE']\n",
    "dates_num=['2021-02-01',sett_date]\n",
    "dates_den = ['2021-01-29','2023-01-30']\n",
    "\n",
    "np_num2, np_den2=ut.read_our_CSV(df,name_stocks2, dates_num, dates_den)"
   ]
  },
  {
   "cell_type": "code",
   "execution_count": 10,
   "metadata": {},
   "outputs": [],
   "source": [
    "stockPrice=np_num2[len(np_num2)-1]\n",
    "numberOfShares=stockPrice*value_ptf\n",
    "numberOfPuts=numberOfShares\n",
    "start = datetime.strptime(sett_date, \"%Y-%m-%d\")\n",
    "end = datetime.strptime(expiry, \"%Y-%m-%d\")\n",
    "diff = end - start\n",
    "timeToMaturityInYears=diff.days/365\n",
    "riskMeasureTimeIntervalInYears=days_VaR/365\n",
    "NumberOfDaysPerYears=260\n",
    "logReturns=np.log(np_num2/np_den2)"
   ]
  },
  {
   "cell_type": "code",
   "execution_count": null,
   "metadata": {},
   "outputs": [],
   "source": [
    "VaR_MC=ut2.FullMonteCarloVaR(logReturns, numberOfShares, numberOfPuts, stockPrice, strike, rate, dividend,\n",
    "                            volatility, timeToMaturityInYears, riskMeasureTimeIntervalInYears, alpha, NumberOfDaysPerYears)\n",
    "VaR_DN=ut2.DeltaNormalVaR(logReturns, numberOfShares, numberOfPuts, stockPrice, strike, rate, dividend,\n",
    "                            volatility, timeToMaturityInYears, riskMeasureTimeIntervalInYears, alpha, NumberOfDaysPerYears)"
   ]
  },
  {
   "cell_type": "code",
   "execution_count": null,
   "metadata": {},
   "outputs": [],
   "source": [
    "#CHECK\n",
    "VaR_checkMC=ut.plausibilityCheck(logReturns, 1, alpha_2, value_ptf, riskMeasureTimeIntervalInDay)\n",
    "VaR_checkDN=ut.plausibilityCheck(logReturns, 1, alpha_2, value_ptf, delta)\n",
    "VaR_check"
   ]
  }
 ],
 "metadata": {
  "kernelspec": {
   "display_name": "Python 3",
   "language": "python",
   "name": "python3"
  },
  "language_info": {
   "codemirror_mode": {
    "name": "ipython",
    "version": 3
   },
   "file_extension": ".py",
   "mimetype": "text/x-python",
   "name": "python",
   "nbconvert_exporter": "python",
   "pygments_lexer": "ipython3",
   "version": "3.10.6"
  },
  "orig_nbformat": 4
 },
 "nbformat": 4,
 "nbformat_minor": 2
}
