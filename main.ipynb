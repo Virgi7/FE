{
 "cells": [
  {
   "cell_type": "code",
   "execution_count": 31,
   "metadata": {},
   "outputs": [
    {
     "name": "stdout",
     "output_type": "stream",
     "text": [
      "The autoreload extension is already loaded. To reload it, use:\n",
      "  %reload_ext autoreload\n"
     ]
    }
   ],
   "source": [
    "%load_ext autoreload"
   ]
  },
  {
   "cell_type": "code",
   "execution_count": 32,
   "metadata": {},
   "outputs": [],
   "source": [
    "#main\n",
    "%autoreload\n",
    "import pandas as pd\n",
    "import numpy as np\n",
    "import datetime \n",
    "from datetime import datetime\n",
    "import scipy as sc\n",
    "from scipy.stats import norm\n",
    "import math\n",
    "import utilities as ut\n",
    "import utilities_2 as ut2"
   ]
  },
  {
   "cell_type": "code",
   "execution_count": 33,
   "metadata": {},
   "outputs": [],
   "source": [
    "df=pd.read_csv('EUROSTOXX50_2023_Dataset.csv', index_col=0)\n",
    "\n",
    "name_stocks0=['ADSGn.DE', 'ALVG.DE', 'MUVGn.DE',\n",
    "                            'OREP.PA'] \n",
    "\n",
    "dates_num=['2016-03-18','2019-03-20']\n",
    "dates_den = ['2016-03-17','2019-03-19']\n",
    "\n",
    "np_num, np_den=ut.read_our_CSV(df,name_stocks0, dates_num, dates_den)"
   ]
  },
  {
   "cell_type": "code",
   "execution_count": 34,
   "metadata": {},
   "outputs": [],
   "source": [
    "alpha=0.95\n",
    "notional=1e7\n",
    "delta=1\n",
    "n_asset=4\n",
    "weights=np.ones((n_asset,1))/n_asset\n",
    "returns=np.log(np_num/np_den)"
   ]
  },
  {
   "cell_type": "code",
   "execution_count": 5,
   "metadata": {},
   "outputs": [
    {
     "data": {
      "text/plain": [
       "(146813.58536847658, 185434.4799413243)"
      ]
     },
     "execution_count": 5,
     "metadata": {},
     "output_type": "execute_result"
    }
   ],
   "source": [
    "VaR, ES=ut.AnalyticalNormalMeasures(alpha, weights, notional, delta, returns)\n",
    "VaR, ES"
   ]
  },
  {
   "cell_type": "code",
   "execution_count": 6,
   "metadata": {},
   "outputs": [
    {
     "name": "stdout",
     "output_type": "stream",
     "text": [
      "<class 'numpy.ndarray'> <class 'numpy.ndarray'>\n"
     ]
    },
    {
     "data": {
      "text/plain": [
       "139905.9213679971"
      ]
     },
     "execution_count": 6,
     "metadata": {},
     "output_type": "execute_result"
    }
   ],
   "source": [
    "#CHECK\n",
    "VaR_check=ut.plausibilityCheck(returns, weights, alpha, notional, delta)\n",
    "VaR_check"
   ]
  },
  {
   "cell_type": "code",
   "execution_count": 35,
   "metadata": {},
   "outputs": [],
   "source": [
    "#Exercise 1a\n",
    "#Parameters\n",
    "sett_date1='2019-03-20'\n",
    "alpha_1=0.99\n",
    "dates_num1=dates_num\n",
    "dates_den1 = dates_den\n",
    "shares1=np.array([25000, 20000, 20000, 10000])\n",
    "Nsim=200\n",
    "name_stocks1a=['TTEF.PA', 'DANO.PA', 'SASY.PA', 'VOWG_p.DE']\n"
   ]
  },
  {
   "cell_type": "code",
   "execution_count": 36,
   "metadata": {},
   "outputs": [],
   "source": [
    "\n",
    "stockPrice_1a=df.loc[[sett_date1],name_stocks1a].to_numpy()\n",
    "ptf_value1a=shares1.dot(stockPrice_1a.T)\n",
    "weights_1a=(shares1*stockPrice_1a/ptf_value1a).T\n",
    "np_num1a, np_den1a=ut.read_our_CSV(df,name_stocks1a, dates_num1, dates_den1)\n",
    "logReturns_1a=np.log(np_num1a/np_den1a)"
   ]
  },
  {
   "cell_type": "code",
   "execution_count": 39,
   "metadata": {},
   "outputs": [
    {
     "name": "stdout",
     "output_type": "stream",
     "text": [
      "132718.72068228474\n"
     ]
    }
   ],
   "source": [
    "ES_HSM, VaR_HSM= ut2.HSMeasurements(logReturns_1a, alpha_1, weights_1a, ptf_value1a, delta)\n",
    "samples_Bootstrap=ut2.bootstrapStatistical(Nsim, logReturns_1a)\n",
    "VaR_boot = ut2.HSMeasurements(samples_Bootstrap, alpha_1, weights_1a, ptf_value1a, delta)\n",
    "print(np.mean(VaR_boot))"
   ]
  },
  {
   "cell_type": "code",
   "execution_count": 42,
   "metadata": {},
   "outputs": [],
   "source": [
    "#Exercise 1b\n",
    "#Parameters\n",
    "name_stocks1b=['ADSGn.DE', 'AIR.PA', 'BBVA.MC', 'BMWG.DE', 'SCHN.PA']\n",
    "Lambda=0.97\n",
    "n_asset1b=len(name_stocks1b)\n",
    "weights_1b=np.ones((n_asset1b,1))/n_asset1b"
   ]
  },
  {
   "cell_type": "code",
   "execution_count": 43,
   "metadata": {},
   "outputs": [],
   "source": [
    "stockPrice_1b=df.loc[[sett_date1],name_stocks1b].to_numpy()\n",
    "ptf_value1b=1\n",
    "\n",
    "np_num1b, np_den1b=ut.read_our_CSV(df,name_stocks1b, dates_num1, dates_den1)\n",
    "logReturns_1b=np.log(np_num1b/np_den1b)"
   ]
  },
  {
   "cell_type": "code",
   "execution_count": 44,
   "metadata": {},
   "outputs": [],
   "source": [
    "ES_WHS, VaR_WHS=ut2.WHSMeasurements(logReturns_1b, alpha_1, Lambda, weights_1b, ptf_value1b, delta)\n"
   ]
  },
  {
   "cell_type": "code",
   "execution_count": 45,
   "metadata": {},
   "outputs": [
    {
     "name": "stdout",
     "output_type": "stream",
     "text": [
      "Es: 0.04526566931418966 VaR: 0.03043969773294308\n"
     ]
    }
   ],
   "source": [
    "print(\"Es:\", ES_WHS, \"VaR:\", VaR_WHS)"
   ]
  },
  {
   "cell_type": "code",
   "execution_count": 6,
   "metadata": {},
   "outputs": [],
   "source": [
    "#Exercise 1c\n",
    "#Parameters\n",
    "N=20\n",
    "df_1c=df.loc[:, df.columns != 'ADYEN.AS']\n",
    "df_1c=df_1c.iloc[: , :N]\n",
    "name_stocks1c=df_1c.columns\n",
    "np_num1c, np_den1c=ut.read_our_CSV(df,name_stocks1c, dates_num1, dates_den1)\n",
    "\n",
    "n_asset1c=len(name_stocks1c)\n",
    "weights_1c=np.ones((n_asset1c,1))/n_asset1c\n",
    "ptf_value1c=1\n",
    "days_VaR1c=10\n",
    "n=range(1,7)\n",
    "\n",
    "logReturns_1c=np.log(np_num1c/np_den1c)"
   ]
  },
  {
   "cell_type": "code",
   "execution_count": 23,
   "metadata": {},
   "outputs": [
    {
     "ename": "ValueError",
     "evalue": "too many values to unpack (expected 2)",
     "output_type": "error",
     "traceback": [
      "\u001b[1;31m---------------------------------------------------------------------------\u001b[0m",
      "\u001b[1;31mValueError\u001b[0m                                Traceback (most recent call last)",
      "\u001b[1;32mc:\\Users\\Tiziano\\OneDrive - Politecnico di Milano\\Desktop\\PoliMi\\1. Financial Engineering\\FE python\\main.ipynb Cella 16\u001b[0m in \u001b[0;36m<cell line: 5>\u001b[1;34m()\u001b[0m\n\u001b[0;32m      <a href='vscode-notebook-cell:/c%3A/Users/Tiziano/OneDrive%20-%20Politecnico%20di%20Milano/Desktop/PoliMi/1.%20Financial%20Engineering/FE%20python/main.ipynb#X16sZmlsZQ%3D%3D?line=3'>4</a>\u001b[0m yearlyMeanReturns\u001b[39m=\u001b[39m np\u001b[39m.\u001b[39mmean(logReturns_1c, axis\u001b[39m=\u001b[39m\u001b[39m0\u001b[39m)\n\u001b[0;32m      <a href='vscode-notebook-cell:/c%3A/Users/Tiziano/OneDrive%20-%20Politecnico%20di%20Milano/Desktop/PoliMi/1.%20Financial%20Engineering/FE%20python/main.ipynb#X16sZmlsZQ%3D%3D?line=4'>5</a>\u001b[0m \u001b[39mfor\u001b[39;00m i \u001b[39min\u001b[39;00m n:\n\u001b[1;32m----> <a href='vscode-notebook-cell:/c%3A/Users/Tiziano/OneDrive%20-%20Politecnico%20di%20Milano/Desktop/PoliMi/1.%20Financial%20Engineering/FE%20python/main.ipynb#X16sZmlsZQ%3D%3D?line=5'>6</a>\u001b[0m     ES_PCA[i], VaR_PCA[i]\u001b[39m=\u001b[39m ut2\u001b[39m.\u001b[39;49mPrincCompAnalysis(yearlyCovariance, yearlyMeanReturns, weights_1c, days_VaR1c, alpha_1, i,\n\u001b[0;32m      <a href='vscode-notebook-cell:/c%3A/Users/Tiziano/OneDrive%20-%20Politecnico%20di%20Milano/Desktop/PoliMi/1.%20Financial%20Engineering/FE%20python/main.ipynb#X16sZmlsZQ%3D%3D?line=6'>7</a>\u001b[0m                       ptf_value1c)\n",
      "File \u001b[1;32mc:\\Users\\Tiziano\\OneDrive - Politecnico di Milano\\Desktop\\PoliMi\\1. Financial Engineering\\FE python\\utilities_2.py:65\u001b[0m, in \u001b[0;36mPrincCompAnalysis\u001b[1;34m(yearlyCovariance, yearlyMeanReturns, weights, H, alpha, numberOfPrincipalComponents, portfolioValue)\u001b[0m\n\u001b[0;32m     62\u001b[0m \u001b[39mdef\u001b[39;00m \u001b[39mPrincCompAnalysis\u001b[39m(yearlyCovariance, yearlyMeanReturns, weights, H, alpha, numberOfPrincipalComponents,\n\u001b[0;32m     63\u001b[0m                       portfolioValue):\n\u001b[0;32m     64\u001b[0m     \u001b[39m# spectral decomposition of the variance covariance matrix\u001b[39;00m\n\u001b[1;32m---> 65\u001b[0m     eigenvalues, eigenvectors \u001b[39m=\u001b[39m linalg\u001b[39m.\u001b[39meigvals(yearlyCovariance)\n\u001b[0;32m     66\u001b[0m     gamma \u001b[39m=\u001b[39m np\u001b[39m.\u001b[39mzeros((\u001b[39mlen\u001b[39m(eigenvalues), \u001b[39mlen\u001b[39m(eigenvalues)))\n\u001b[0;32m     67\u001b[0m     \u001b[39m# we order the set of eigenvalues\u001b[39;00m\n",
      "\u001b[1;31mValueError\u001b[0m: too many values to unpack (expected 2)"
     ]
    }
   ],
   "source": [
    "ES_PCA=np.zeros((len(n),1))\n",
    "VaR_PCA=np.zeros((len(n),1))\n",
    "yearlyCovariance= np.corrcoef(logReturns_1c.T)\n",
    "yearlyMeanReturns= np.mean(logReturns_1c, axis=0)\n",
    "for i in n:\n",
    "    ES_PCA[i], VaR_PCA[i]= ut2.PrincCompAnalysis(yearlyCovariance, yearlyMeanReturns, weights_1c, days_VaR1c, alpha_1, i,\n",
    "                      ptf_value1c)"
   ]
  },
  {
   "cell_type": "code",
   "execution_count": 18,
   "metadata": {},
   "outputs": [],
   "source": [
    "#Exercise 2\n",
    "#Parameters\n",
    "sett_date='2023-01-31'\n",
    "expiry='2023-04-05'\n",
    "strike=25\n",
    "value_ptf=25870000\n",
    "volatility=0.154\n",
    "dividend=0.031\n",
    "alpha_2=0.99\n",
    "days_VaR=10\n",
    "rate=0"
   ]
  },
  {
   "cell_type": "code",
   "execution_count": 19,
   "metadata": {},
   "outputs": [],
   "source": [
    "#We select only the stocks of Vonovia between the settlement date and 2y before\n",
    "name_stocks2=['VNAn.DE']\n",
    "n_asset2=len(name_stocks2)\n",
    "weights_2=np.ones((n_asset2,1))/n_asset2\n",
    "dates_num=['2021-02-01',sett_date]\n",
    "dates_den = ['2021-01-29','2023-01-30']\n",
    "\n",
    "np_num2, np_den2=ut.read_our_CSV(df,name_stocks2, dates_num, dates_den)"
   ]
  },
  {
   "cell_type": "code",
   "execution_count": 26,
   "metadata": {},
   "outputs": [
    {
     "data": {
      "text/plain": [
       "datetime.datetime(2023, 1, 31, 0, 0)"
      ]
     },
     "execution_count": 26,
     "metadata": {},
     "output_type": "execute_result"
    }
   ],
   "source": [
    "stockPrice=np_num2[len(np_num2)-1]\n",
    "numberOfShares=value_ptf/stockPrice\n",
    "numberOfPuts=numberOfShares\n",
    "start = datetime.strptime(sett_date, \"%Y-%m-%d\")\n",
    "end = datetime.strptime(expiry, \"%Y-%m-%d\")"
   ]
  },
  {
   "cell_type": "code",
   "execution_count": 30,
   "metadata": {},
   "outputs": [
    {
     "data": {
      "text/plain": [
       "738551"
      ]
     },
     "execution_count": 30,
     "metadata": {},
     "output_type": "execute_result"
    }
   ],
   "source": [
    "start.toordinal()"
   ]
  },
  {
   "cell_type": "code",
   "execution_count": null,
   "metadata": {},
   "outputs": [],
   "source": [
    "diff = end - start\n",
    "timeToMaturityInYears=diff.days/365\n",
    "riskMeasureTimeIntervalInYears=days_VaR/365\n",
    "NumberOfDaysPerYears=np.busday_count('2022-01-01', '2023-01-01')\n",
    "logReturns=np.log(np_num2/np_den2)"
   ]
  },
  {
   "cell_type": "code",
   "execution_count": 24,
   "metadata": {},
   "outputs": [
    {
     "data": {
      "text/plain": [
       "(1039202.1431239815, 18894.837478695335)"
      ]
     },
     "execution_count": 24,
     "metadata": {},
     "output_type": "execute_result"
    }
   ],
   "source": [
    "VaR_MC=ut2.FullMonteCarloVaR(logReturns, numberOfShares, numberOfPuts, stockPrice, strike, rate, dividend,\n",
    "                            volatility, timeToMaturityInYears, riskMeasureTimeIntervalInYears, alpha, NumberOfDaysPerYears)\n",
    "VaR_DN=ut2.DeltaNormalVaR(logReturns, numberOfShares, numberOfPuts, stockPrice, strike, rate, dividend,\n",
    "                            volatility, timeToMaturityInYears, riskMeasureTimeIntervalInYears, alpha, NumberOfDaysPerYears)\n",
    "VaR_MC, VaR_DN"
   ]
  },
  {
   "cell_type": "code",
   "execution_count": 25,
   "metadata": {},
   "outputs": [
    {
     "name": "stdout",
     "output_type": "stream",
     "text": [
      "<class 'numpy.ndarray'> <class 'numpy.float64'>\n"
     ]
    },
    {
     "data": {
      "text/plain": [
       "4444863.323633497"
      ]
     },
     "execution_count": 25,
     "metadata": {},
     "output_type": "execute_result"
    }
   ],
   "source": [
    "#CHECK\n",
    "VaR_check2=ut.plausibilityCheck(logReturns, weights_2, alpha_2, value_ptf, days_VaR)\n",
    "VaR_check2"
   ]
  }
 ],
 "metadata": {
  "kernelspec": {
   "display_name": "Python 3",
   "language": "python",
   "name": "python3"
  },
  "language_info": {
   "codemirror_mode": {
    "name": "ipython",
    "version": 3
   },
   "file_extension": ".py",
   "mimetype": "text/x-python",
   "name": "python",
   "nbconvert_exporter": "python",
   "pygments_lexer": "ipython3",
   "version": "3.10.6"
  },
  "orig_nbformat": 4
 },
 "nbformat": 4,
 "nbformat_minor": 2
}
