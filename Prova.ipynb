{
 "cells": [
  {
   "cell_type": "code",
   "execution_count": 1,
   "metadata": {},
   "outputs": [],
   "source": [
    "# main\n",
    "import pandas as pd\n",
    "import numpy as np\n",
    "import datetime \n",
    "from datetime import datetime\n",
    "import scipy as sc\n",
    "from scipy.stats import norm\n",
    "import math\n",
    "import utilities as ut\n",
    "import utilities_2 as ut2"
   ]
  },
  {
   "cell_type": "code",
   "execution_count": 2,
   "metadata": {},
   "outputs": [],
   "source": [
    "\n",
    "df=pd.read_csv('EUROSTOXX50_2023_Dataset.csv', index_col=0)\n",
    "\n",
    "name_stocks0=['ADSGn.DE', 'ALVG.DE', 'MUVGn.DE',\n",
    "                            'OREP.PA'] \n",
    "dates_num=['2016-03-18','2019-03-20']\n",
    "dates_den = ['2016-03-17','2019-03-19']\n",
    "\n",
    "np_num, np_den=ut.read_our_CSV(df,name_stocks0, dates_num, dates_den)\n"
   ]
  },
  {
   "cell_type": "code",
   "execution_count": 3,
   "metadata": {},
   "outputs": [
    {
     "name": "stdout",
     "output_type": "stream",
     "text": [
      "146813.58536847658 185434.4799413243\n",
      "139905.9213679971\n"
     ]
    }
   ],
   "source": [
    "\n",
    "#Parameters\n",
    "alpha=0.95\n",
    "notional=1e7\n",
    "delta=1\n",
    "n_asset=4\n",
    "weights=np.ones((n_asset,1))/n_asset #we consider a equally weighted portfolio\n",
    "returns=np.log(np_num/np_den) #computation of the returns\n",
    "\n",
    "VaR, ES = ut.AnalyticalNormalMeasures(alpha,weights,notional,delta,returns)\n",
    "print(VaR, ES)\n",
    "\n",
    "VaR_check=ut.plausibilityCheck(returns, weights, alpha, notional, delta)\n",
    "print(VaR_check)\n"
   ]
  },
  {
   "cell_type": "code",
   "execution_count": null,
   "metadata": {},
   "outputs": [],
   "source": [
    "\n",
    "#Exercise 1a\n",
    "#Parameters\n",
    "sett_date1='2019-03-20'\n",
    "alpha_1=0.99\n",
    "dates_num1=dates_num\n",
    "dates_den1 = dates_den\n",
    "shares1=np.array([25000, 20000, 20000, 10000])\n",
    "Nsim=200\n",
    "name_stocks1a=['TTEF.PA', 'DANO.PA', 'SASY.PA', 'VOWG_p.DE']\n",
    "\n",
    "stockPrice_1a=df.loc[[sett_date1],name_stocks1a].to_numpy()\n",
    "ptf_value1a=shares1.dot(stockPrice_1a.T)\n",
    "weights_1a=(shares1*stockPrice_1a/ptf_value1a).T\n",
    "np_num1a, np_den1a=ut.read_our_CSV(df,name_stocks1a, dates_num1, dates_den1)\n",
    "logReturns_1a=np.log(np_num1a/np_den1a)\n"
   ]
  },
  {
   "cell_type": "code",
   "execution_count": null,
   "metadata": {},
   "outputs": [],
   "source": [
    "\n",
    "ES_HSM, VaR_HSM= ut2.HSMeasurements(logReturns_1a, alpha_1, weights_1a, ptf_value1a, delta)\n",
    "print(\"VaR_HSM:\", VaR_HSM,\"ES_HSM:\", ES_HSM)\n",
    "#CHECK\n",
    "VaR_check_HSM=ut.plausibilityCheck(returns, weights, alpha, notional, delta)\n",
    "print(VaR_check_HSM)\n",
    "\n",
    "samples_Bootstrap=ut2.bootstrapStatistical(Nsim, logReturns_1a)\n",
    "VaR_boot = ut2.HSMeasurements(samples_Bootstrap, alpha_1, weights_1a, ptf_value1a, delta)\n",
    "print(np.mean(VaR_boot))\n"
   ]
  },
  {
   "cell_type": "code",
   "execution_count": null,
   "metadata": {},
   "outputs": [],
   "source": [
    "\n",
    "#Exercise 1b\n",
    "#Parameters\n",
    "Nsim=200\n",
    "name_stocks1b=['ADSGn.DE', 'AIR.PA', 'BBVA.MC', 'BMWG.DE', 'SCHN.PA']\n",
    "Lambda=0.97\n",
    "n_asset1b=len(name_stocks1b)\n",
    "weights_1b=np.ones((n_asset1b,1))/n_asset1b\n",
    "stockPrice_1b=df.loc[[sett_date1],name_stocks1b].to_numpy()\n",
    "ptf_value1b=1e7\n",
    "\n",
    "np_num1b, np_den1b=ut.read_our_CSV(df,name_stocks1b, dates_num1, dates_den1)\n",
    "logReturns_1b=np.log(np_num1b/np_den1b)\n",
    "\n",
    "ES_WHS, VaR_WHS=ut2.WHSMeasurements(logReturns_1b, alpha_1, Lambda, weights_1b, ptf_value1b, delta)\n",
    "print(\"VaR_WHS:\", VaR_WHS, \"ES_WHS:\",ES_WHS)\n",
    "#CHECK\n",
    "VaR_check_WHS = ut.plausibilityCheck(returns, weights, alpha, notional, delta)\n",
    "print(VaR_check_WHS)\n"
   ]
  },
  {
   "cell_type": "code",
   "execution_count": null,
   "metadata": {},
   "outputs": [],
   "source": [
    "\n",
    "#Exercise 1c\n",
    "#Parameters\n",
    "N=20\n",
    "df_1c=df.loc[:, df.columns != 'ADYEN.AS']\n",
    "df_1c=df_1c.iloc[: , :N]\n",
    "name_stocks1c=df_1c.columns\n",
    "np_num1c, np_den1c=ut.read_our_CSV(df,name_stocks1c, dates_num1, dates_den1)\n",
    "logReturns_1c=np.log(np_num1c/np_den1c)\n",
    "\n",
    "n_asset1c=len(name_stocks1c)\n",
    "weights_1c=np.ones((n_asset1c,1))/n_asset1c\n",
    "ptf_value1c=1e7\n",
    "days_VaR1c=10\n",
    "n=range(1,7)\n",
    "\n",
    "ES_PCA=np.zeros((len(n),1))\n",
    "VaR_PCA=np.zeros((len(n),1))\n",
    "yearlyCovariance= np.corrcoef(logReturns_1c.T)\n",
    "yearlyMeanReturns= np.mean(logReturns_1c, axis=0)\n",
    "for i in n:\n",
    "    ES_PCA[i], VaR_PCA[i]= ut2.PrincCompAnalysis(yearlyCovariance, yearlyMeanReturns, weights_1c, days_VaR1c, alpha_1, i,\n",
    "                      ptf_value1c)\n",
    "print(\"VaR_PCA:\", VaR, \"ES_PCA:\", ES)\n",
    "#CHECK\n",
    "VaR_check_PCA = ut.plausibilityCheck(logReturns_1c, weights_1c, alpha_1, ptf_value1c, days_VaR1c)\n",
    "print(VaR_check_PCA)\n"
   ]
  },
  {
   "cell_type": "code",
   "execution_count": null,
   "metadata": {},
   "outputs": [],
   "source": [
    "\n",
    "#Exercise 2\n",
    "#Parameters\n",
    "sett_date='2023-01-31'\n",
    "expiry='2023-04-05'\n",
    "strike=25\n",
    "value_ptf=25870000\n",
    "volatility=0.154\n",
    "dividend=0.031\n",
    "alpha_2=0.99\n",
    "days_VaR=10\n",
    "rate=0\n"
   ]
  },
  {
   "cell_type": "code",
   "execution_count": null,
   "metadata": {},
   "outputs": [],
   "source": [
    "\n",
    "#We select only the stocks of Vonovia between the settlement date and 2y before\n",
    "name_stocks2=['VNAn.DE']\n",
    "n_asset2=len(name_stocks2)\n",
    "weights_2=np.ones((n_asset2,1))/n_asset2\n",
    "dates_num=['2021-02-01',sett_date]\n",
    "dates_den = ['2021-01-29','2023-01-30']\n",
    "np_num2, np_den2=ut.read_our_CSV(df,name_stocks2, dates_num, dates_den)\n",
    "\n",
    "stockPrice=np_num2[len(np_num2)-1]\n",
    "numberOfShares=value_ptf/stockPrice\n",
    "numberOfPuts=numberOfShares\n",
    "start = datetime.strptime(sett_date, \"%Y-%m-%d\")\n",
    "end = datetime.strptime(expiry, \"%Y-%m-%d\")\n",
    "diff = end - start\n",
    "timeToMaturityInYears=diff.days/365\n",
    "riskMeasureTimeIntervalInYears=days_VaR/365\n",
    "NumberOfDaysPerYears=np.busday_count('2022-01-01', '2023-01-01')\n",
    "logReturns=np.log(np_num2/np_den2)\n",
    "\n",
    "VaR_MC=ut2.FullMonteCarloVaR(logReturns, numberOfShares, numberOfPuts, stockPrice, strike, rate, dividend,                            volatility, timeToMaturityInYears, riskMeasureTimeIntervalInYears, alpha, NumberOfDaysPerYears)\n",
    "VaR_DN=ut2.DeltaNormalVaR(logReturns, numberOfShares, numberOfPuts, stockPrice, strike, rate, dividend,\n",
    "                            volatility, timeToMaturityInYears, riskMeasureTimeIntervalInYears, alpha, NumberOfDaysPerYears)\n",
    "print(\"VaR_MC:\", VaR_MC, \"VaR_DN:\", VaR_DN)\n",
    "\n",
    "#CHECK\n",
    "VaR_check2=ut.plausibilityCheck(logReturns, weights_2, alpha_2, value_ptf, days_VaR)\n",
    "print(VaR_check2)"
   ]
  }
 ],
 "metadata": {
  "kernelspec": {
   "display_name": "Python 3",
   "language": "python",
   "name": "python3"
  },
  "language_info": {
   "codemirror_mode": {
    "name": "ipython",
    "version": 3
   },
   "file_extension": ".py",
   "mimetype": "text/x-python",
   "name": "python",
   "nbconvert_exporter": "python",
   "pygments_lexer": "ipython3",
   "version": "3.10.6"
  },
  "orig_nbformat": 4
 },
 "nbformat": 4,
 "nbformat_minor": 2
}
