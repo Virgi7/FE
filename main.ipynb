{
 "cells": [
  {
   "cell_type": "code",
   "execution_count": 12,
   "metadata": {},
   "outputs": [
    {
     "name": "stdout",
     "output_type": "stream",
     "text": [
      "The autoreload extension is already loaded. To reload it, use:\n",
      "  %reload_ext autoreload\n"
     ]
    }
   ],
   "source": [
    "%load_ext autoreload"
   ]
  },
  {
   "cell_type": "code",
   "execution_count": 19,
   "metadata": {},
   "outputs": [],
   "source": [
    "#main\n",
    "%autoreload\n",
    "import pandas as pd\n",
    "import numpy as np\n",
    "import datetime as dt\n",
    "from datetime import datetime\n",
    "import scipy as sc\n",
    "from scipy.stats import norm\n",
    "import math\n",
    "import utilities as ut\n",
    "import control as ct\n",
    "import utilities_2 as ut2"
   ]
  },
  {
   "cell_type": "code",
   "execution_count": 20,
   "metadata": {},
   "outputs": [],
   "source": [
    "df=pd.read_csv('EUROSTOXX50_2023_Dataset.csv', index_col=0)\n",
    "#df = df.fillna(method='ffill') \n",
    "np_num, np_den=ut.read_our_CSV(df)"
   ]
  },
  {
   "cell_type": "code",
   "execution_count": 21,
   "metadata": {},
   "outputs": [],
   "source": [
    "alpha=0.95\n",
    "notional=1e7\n",
    "delta=1\n",
    "n_asset=4\n",
    "weights=np.ones((n_asset,1))/n_asset"
   ]
  },
  {
   "cell_type": "code",
   "execution_count": 22,
   "metadata": {},
   "outputs": [],
   "source": [
    "returns=np.log(np_num/np_den)"
   ]
  },
  {
   "cell_type": "code",
   "execution_count": 24,
   "metadata": {},
   "outputs": [
    {
     "data": {
      "text/plain": [
       "(146813.58536847658, 185434.4799413243)"
      ]
     },
     "execution_count": 24,
     "metadata": {},
     "output_type": "execute_result"
    }
   ],
   "source": [
    "VaR, ES=ut.AnalyticalNormalMeasures(alpha, weights, notional, delta, returns)\n",
    "VaR, ES"
   ]
  },
  {
   "cell_type": "code",
   "execution_count": 26,
   "metadata": {},
   "outputs": [
    {
     "name": "stdout",
     "output_type": "stream",
     "text": [
      "[[56938.81775921]\n",
      " [47109.33808388]\n",
      " [41452.04846453]\n",
      " [42170.9708321 ]]\n"
     ]
    },
    {
     "ename": "TypeError",
     "evalue": "cannot unpack non-iterable float object",
     "output_type": "error",
     "traceback": [
      "\u001b[1;31m---------------------------------------------------------------------------\u001b[0m",
      "\u001b[1;31mTypeError\u001b[0m                                 Traceback (most recent call last)",
      "\u001b[1;32mc:\\Users\\Tiziano\\OneDrive - Politecnico di Milano\\Desktop\\PoliMi\\1. Financial Engineering\\FE python\\main.ipynb Cella 7\u001b[0m in \u001b[0;36m<cell line: 2>\u001b[1;34m()\u001b[0m\n\u001b[0;32m      <a href='vscode-notebook-cell:/c%3A/Users/Tiziano/OneDrive%20-%20Politecnico%20di%20Milano/Desktop/PoliMi/1.%20Financial%20Engineering/FE%20python/main.ipynb#X13sZmlsZQ%3D%3D?line=0'>1</a>\u001b[0m \u001b[39m#CHECK\u001b[39;00m\n\u001b[1;32m----> <a href='vscode-notebook-cell:/c%3A/Users/Tiziano/OneDrive%20-%20Politecnico%20di%20Milano/Desktop/PoliMi/1.%20Financial%20Engineering/FE%20python/main.ipynb#X13sZmlsZQ%3D%3D?line=1'>2</a>\u001b[0m VaR_check, ES_check\u001b[39m=\u001b[39mct\u001b[39m.\u001b[39mplausibilityCheck(returns, weights, alpha, notional, delta)\n",
      "\u001b[1;31mTypeError\u001b[0m: cannot unpack non-iterable float object"
     ]
    }
   ],
   "source": [
    "#CHECK\n",
    "VaR_check, ES_check=ct.plausibilityCheck(returns, weights, alpha, notional, delta)"
   ]
  },
  {
   "cell_type": "code",
   "execution_count": 24,
   "metadata": {},
   "outputs": [],
   "source": [
    "#Exercise 2\n",
    "#Parameters\n",
    "sett_date='2023-01-31'\n",
    "expiry='2023-04-05'\n",
    "final_date='2021-02-01'\n",
    "strike=25\n",
    "value_ptf=25870000\n",
    "volatility=0.154\n",
    "dividend=0.031\n",
    "alpha_2=0.99\n",
    "days_VaR=10\n",
    "rate=0"
   ]
  },
  {
   "cell_type": "code",
   "execution_count": 25,
   "metadata": {},
   "outputs": [],
   "source": [
    "#We select only the stocks of Vonovia between the settlement date and 2y before\n",
    "df_ptf2 = df[final_date:sett_date]\n",
    "df_ptf2 = df_ptf2.loc[:, ['VNAn.DE']]\n",
    "df_den2 = df['2021-01-29':'2023-01-30']\n",
    "df_den2 = df_den2.loc[:, ['VNAn.DE']]\n",
    "np_den2 = df_den2.to_numpy()\n",
    "np_num2 = df_ptf2.to_numpy()\n"
   ]
  },
  {
   "cell_type": "code",
   "execution_count": 52,
   "metadata": {},
   "outputs": [],
   "source": [
    "stockPrice=df_ptf2['VNAn.DE'][len(df_ptf2)-1]\n",
    "numberOfShares=stockPrice*value_ptf\n",
    "numberOfPuts=numberOfShares\n",
    "start = datetime.strptime(sett_date, \"%Y-%m-%d\")\n",
    "end = datetime.strptime(expiry, \"%Y-%m-%d\")\n",
    "diff = end - start\n",
    "timeToMaturityInYears=diff.days/365\n",
    "riskMeasureTimeIntervalInYears=days_VaR/365\n",
    "NumberOfDaysPerYears=260\n",
    "logReturns=np.log(np_num2/np_den2)"
   ]
  },
  {
   "cell_type": "code",
   "execution_count": 53,
   "metadata": {},
   "outputs": [
    {
     "ename": "TypeError",
     "evalue": "'float' object cannot be interpreted as an integer",
     "output_type": "error",
     "traceback": [
      "\u001b[1;31m---------------------------------------------------------------------------\u001b[0m",
      "\u001b[1;31mTypeError\u001b[0m                                 Traceback (most recent call last)",
      "\u001b[1;32mc:\\Users\\Tiziano\\OneDrive - Politecnico di Milano\\Desktop\\PoliMi\\1. Financial Engineering\\FE python\\main.ipynb Cella 10\u001b[0m in \u001b[0;36m<cell line: 1>\u001b[1;34m()\u001b[0m\n\u001b[1;32m----> <a href='vscode-notebook-cell:/c%3A/Users/Tiziano/OneDrive%20-%20Politecnico%20di%20Milano/Desktop/PoliMi/1.%20Financial%20Engineering/FE%20python/main.ipynb#X16sZmlsZQ%3D%3D?line=0'>1</a>\u001b[0m VaR_MC, ES_MC\u001b[39m=\u001b[39mut2\u001b[39m.\u001b[39;49mFullMonteCarloVaR(logReturns, numberOfShares, numberOfPuts, stockPrice, strike, rate, dividend,\n\u001b[0;32m      <a href='vscode-notebook-cell:/c%3A/Users/Tiziano/OneDrive%20-%20Politecnico%20di%20Milano/Desktop/PoliMi/1.%20Financial%20Engineering/FE%20python/main.ipynb#X16sZmlsZQ%3D%3D?line=1'>2</a>\u001b[0m                             volatility, timeToMaturityInYears, riskMeasureTimeIntervalInYears, alpha,NumberOfDaysPerYears)\n",
      "File \u001b[1;32mc:\\Users\\Tiziano\\OneDrive - Politecnico di Milano\\Desktop\\PoliMi\\1. Financial Engineering\\FE python\\utilities_2.py:120\u001b[0m, in \u001b[0;36mFullMonteCarloVaR\u001b[1;34m(logReturns, numberOfShares, numberOfPuts, stockPrice, strike, rate, dividend, volatility, timeToMaturityInYears, riskMeasureTimeIntervalInYears, alpha, NumberOfDaysPerYears)\u001b[0m\n\u001b[0;32m    118\u001b[0m added_returns \u001b[39m=\u001b[39m np\u001b[39m.\u001b[39mzeros((samples, logReturns\u001b[39m.\u001b[39mshape[\u001b[39m1\u001b[39m]))\n\u001b[0;32m    119\u001b[0m \u001b[39mfor\u001b[39;00m i \u001b[39min\u001b[39;00m \u001b[39mrange\u001b[39m(samples):\n\u001b[1;32m--> 120\u001b[0m     \u001b[39mfor\u001b[39;00m j \u001b[39min\u001b[39;00m \u001b[39mrange\u001b[39;49m(i, (i \u001b[39m+\u001b[39;49m delta)):\n\u001b[0;32m    121\u001b[0m         \u001b[39m# we add the returns over the time interval [i, i + RiskMeasureTimeIntervalInDay]\u001b[39;00m\n\u001b[0;32m    122\u001b[0m         added_returns[i, :] \u001b[39m=\u001b[39m added_returns[i, :] \u001b[39m+\u001b[39m logReturns[j, :]\n\u001b[0;32m    123\u001b[0m simulated_stock \u001b[39m=\u001b[39m stockPrice \u001b[39m*\u001b[39m np\u001b[39m.\u001b[39mexp(added_returns)\n",
      "\u001b[1;31mTypeError\u001b[0m: 'float' object cannot be interpreted as an integer"
     ]
    }
   ],
   "source": [
    "VaR_MC, ES_MC=ut2.FullMonteCarloVaR(logReturns, numberOfShares, numberOfPuts, stockPrice, strike, rate, dividend,\n",
    "                            volatility, timeToMaturityInYears, riskMeasureTimeIntervalInYears, alpha,NumberOfDaysPerYears)"
   ]
  }
 ],
 "metadata": {
  "kernelspec": {
   "display_name": "Python 3",
   "language": "python",
   "name": "python3"
  },
  "language_info": {
   "codemirror_mode": {
    "name": "ipython",
    "version": 3
   },
   "file_extension": ".py",
   "mimetype": "text/x-python",
   "name": "python",
   "nbconvert_exporter": "python",
   "pygments_lexer": "ipython3",
   "version": "3.10.6"
  },
  "orig_nbformat": 4
 },
 "nbformat": 4,
 "nbformat_minor": 2
}
